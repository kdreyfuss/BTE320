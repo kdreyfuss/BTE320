{
  "nbformat": 4,
  "nbformat_minor": 0,
  "metadata": {
    "colab": {
      "provenance": [],
      "authorship_tag": "ABX9TyOoyucmiXFGHDV6ok8Uxsd6",
      "include_colab_link": true
    },
    "kernelspec": {
      "name": "python3",
      "display_name": "Python 3"
    },
    "language_info": {
      "name": "python"
    }
  },
  "cells": [
    {
      "cell_type": "markdown",
      "metadata": {
        "id": "view-in-github",
        "colab_type": "text"
      },
      "source": [
        "<a href=\"https://colab.research.google.com/github/kdreyfuss/BTE320/blob/main/Class_Projects.ipynb\" target=\"_parent\"><img src=\"https://colab.research.google.com/assets/colab-badge.svg\" alt=\"Open In Colab\"/></a>"
      ]
    },
    {
      "cell_type": "code",
      "execution_count": null,
      "metadata": {
        "id": "-uOPcicLnQ6S"
      },
      "outputs": [],
      "source": [
        "base_fee = 5\n",
        "hour_fee = 2.5\n",
        "for hour in range(8):\n",
        "  price = (hour+1)*hour_fee + base_fee\n",
        "  if price < 10:\n",
        "    print(f'{hour+1} 10.0')\n",
        "  elif price > 20:\n",
        "    print(f'{hour+1} 20.0')\n",
        "  else:\n",
        "    print(f'{hour + 1} {price}')\n",
        "\n"
      ]
    },
    {
      "cell_type": "code",
      "source": [
        "ticket_price = 10\n",
        "fixed_cost = 200\n",
        "base_attendees = 20\n",
        "for ad_cost in range (0,201,25):\n",
        "  attendees = base_attendees + 2*round(ad_cost**.5)\n",
        "  profit =(ticket_price*attendees - fixed_cost - ad_cost)\n",
        "  print(f'{ad_cost} {profit}')"
      ],
      "metadata": {
        "id": "xmlx3aLpnU41"
      },
      "execution_count": null,
      "outputs": []
    },
    {
      "cell_type": "code",
      "source": [
        "import random\n",
        "user_choice1 = input(\"Do you want to play the game? Type Yes or No: \")\n",
        "while user_choice1 == 'Yes':\n",
        "  user_choice1 = input\n",
        "  pc_choice = random.choice(['rock', 'paper', 'scissors'])\n",
        "  user_choice2 = input(\"Type either 'rock', 'paper', 'scissors' here: \")\n",
        "  print(f'PC picked' + pc_choice)\n",
        "  if(pc_choice == user_choice2):\n",
        "    print('tie')\n",
        "  elif((pc_choice == 'paper' and user_choice2 == 'scissors') or\n",
        "       (pc_choice == 'scissors' and user_choice2 == 'rock') or\n",
        "       (pc_choice == 'rock' and user_choice2 == 'paper')):\n",
        "       print('you win!')\n",
        "  else:\n",
        "    print('you lose!')\n",
        "  user_choice1 = input(\"Do you want to continue playing? Type Yes or No: \")"
      ],
      "metadata": {
        "id": "eNlGbIVOnaBI"
      },
      "execution_count": null,
      "outputs": []
    }
  ]
}