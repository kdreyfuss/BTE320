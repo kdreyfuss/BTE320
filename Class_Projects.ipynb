{
  "cells": [
    {
      "cell_type": "markdown",
      "metadata": {
        "id": "view-in-github",
        "colab_type": "text"
      },
      "source": [
        "<a href=\"https://colab.research.google.com/github/kdreyfuss/BTE320/blob/main/Class_Projects.ipynb\" target=\"_parent\"><img src=\"https://colab.research.google.com/assets/colab-badge.svg\" alt=\"Open In Colab\"/></a>"
      ]
    },
    {
      "cell_type": "code",
      "execution_count": null,
      "metadata": {
        "id": "-uOPcicLnQ6S"
      },
      "outputs": [],
      "source": [
        "base_fee = 5\n",
        "hour_fee = 2.5\n",
        "for hour in range(8):\n",
        "  price = (hour+1)*hour_fee + base_fee\n",
        "  if price < 10:\n",
        "    print(f'{hour+1} 10.0')\n",
        "  elif price > 20:\n",
        "    print(f'{hour+1} 20.0')\n",
        "  else:\n",
        "    print(f'{hour + 1} {price}')\n",
        "\n"
      ]
    },
    {
      "cell_type": "code",
      "source": [],
      "metadata": {
        "id": "U4D3FwjdtdZS"
      },
      "execution_count": null,
      "outputs": []
    },
    {
      "cell_type": "code",
      "source": [
        "s1 = 'abcdefg'\n",
        "s2 = 'abdght'\n",
        "\n",
        "for char in s1:\n",
        "  if char in s2:\n",
        "    print(char)"
      ],
      "metadata": {
        "colab": {
          "base_uri": "https://localhost:8080/"
        },
        "id": "CJ19Rsn-VUSW",
        "outputId": "b114d374-ec63-4228-d925-639db3a1fc24"
      },
      "execution_count": null,
      "outputs": [
        {
          "output_type": "stream",
          "name": "stdout",
          "text": [
            "a\n",
            "b\n",
            "d\n",
            "g\n"
          ]
        }
      ]
    },
    {
      "cell_type": "code",
      "source": [
        "s1 = 'abcdefg'\n",
        "s2 = 'abdght'\n",
        "\n",
        "for index in range(len(s1)):\n",
        "  if s1[index] in s2:\n",
        "    print(s1[index])"
      ],
      "metadata": {
        "colab": {
          "base_uri": "https://localhost:8080/"
        },
        "id": "EWJsjXHCWsJm",
        "outputId": "647f4049-699b-4ef7-8344-c8150d26d1ad"
      },
      "execution_count": null,
      "outputs": [
        {
          "output_type": "stream",
          "name": "stdout",
          "text": [
            "a\n",
            "b\n",
            "d\n",
            "g\n"
          ]
        }
      ]
    },
    {
      "cell_type": "code",
      "execution_count": null,
      "metadata": {
        "id": "xmlx3aLpnU41"
      },
      "outputs": [],
      "source": [
        "ticket_price = 10\n",
        "fixed_cost = 200\n",
        "base_attendees = 20\n",
        "for ad_cost in range (0,201,25):\n",
        "  attendees = base_attendees + 2*round(ad_cost**.5)\n",
        "  profit =(ticket_price*attendees - fixed_cost - ad_cost)\n",
        "  print(f'{ad_cost} {profit}')"
      ]
    },
    {
      "cell_type": "code",
      "execution_count": null,
      "metadata": {
        "id": "eNlGbIVOnaBI"
      },
      "outputs": [],
      "source": [
        "import random\n",
        "user_choice1 = input(\"Do you want to play the game? Type Yes or No: \")\n",
        "while user_choice1 == 'Yes':\n",
        "  user_choice1 = input\n",
        "  pc_choice = random.choice(['rock', 'paper', 'scissors'])\n",
        "  user_choice2 = input(\"Type either 'rock', 'paper', 'scissors' here: \")\n",
        "  print(f'PC picked' + pc_choice)\n",
        "  if(pc_choice == user_choice2):\n",
        "    print('tie')\n",
        "  elif((pc_choice == 'paper' and user_choice2 == 'scissors') or\n",
        "       (pc_choice == 'scissors' and user_choice2 == 'rock') or\n",
        "       (pc_choice == 'rock' and user_choice2 == 'paper')):\n",
        "       print('you win!')\n",
        "  else:\n",
        "    print('you lose!')\n",
        "  user_choice1 = input(\"Do you want to continue playing? Type Yes or No: \")"
      ]
    },
    {
      "cell_type": "markdown",
      "metadata": {
        "id": "VMKzWA_-pYO4"
      },
      "source": [
        "Design a calculator:\n",
        "- the calculator once starts, cannot stop unless the user chooses\n",
        "- implement all numerical operators that we discussed\n",
        "- the user has to rpovide the numbers and desired operator from the keyboard; then, the calculator will display the result\n",
        "- numbers: int or float, operator: str\n",
        "- the calculator stops if the user enters the word \"break\" instead of an operater; it skips an iteration if the user gives an operator that is not numerical (e.g. a boolean one)"
      ]
    },
    {
      "cell_type": "code",
      "execution_count": null,
      "metadata": {
        "colab": {
          "background_save": true,
          "base_uri": "https://localhost:8080/"
        },
        "id": "6GPOn9y8pYhl",
        "outputId": "a734641a-b7e6-4269-eb97-ec8b8ca96bab"
      },
      "outputs": [
        {
          "name": "stdout",
          "output_type": "stream",
          "text": [
            "9\n"
          ]
        }
      ],
      "source": [
        "while True:\n",
        "  number1 = int(input(\"Type the first number\"))\n",
        "  operator = input(\"Type an operator (+, -, /, //, %, **) or type 'break' to end\")\n",
        "  number2 = int(input(\"Type the second number\"))\n",
        "  if operator == '+':\n",
        "    result = number1 + number2\n",
        "    print(result)\n",
        "  elif operator == '-':\n",
        "    result = number1 - number2\n",
        "    print(result)\n",
        "    print(f'{number1} = ')\n",
        "  elif operator == '/':\n",
        "    result = number1/number2\n",
        "    print(result)\n",
        "  elif operator == '//':\n",
        "    result = number1 // number2\n",
        "    print(result)\n",
        "  elif operator == '%':\n",
        "    result = number1 % number2\n",
        "    print(result)\n",
        "  elif operator == '**':\n",
        "    result = number1 ** number2\n",
        "    print(result)\n",
        "  elif operator == 'break':\n",
        "    break\n",
        "  else: continue"
      ]
    }
  ],
  "metadata": {
    "colab": {
      "provenance": [],
      "authorship_tag": "ABX9TyMStsUEzDnO94sEwQOc+rxV",
      "include_colab_link": true
    },
    "kernelspec": {
      "display_name": "Python 3",
      "name": "python3"
    },
    "language_info": {
      "name": "python"
    }
  },
  "nbformat": 4,
  "nbformat_minor": 0
}