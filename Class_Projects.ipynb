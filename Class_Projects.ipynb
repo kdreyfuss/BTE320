{
  "cells": [
    {
      "cell_type": "markdown",
      "metadata": {
        "id": "view-in-github",
        "colab_type": "text"
      },
      "source": [
        "<a href=\"https://colab.research.google.com/github/kdreyfuss/BTE320/blob/main/Class_Projects.ipynb\" target=\"_parent\"><img src=\"https://colab.research.google.com/assets/colab-badge.svg\" alt=\"Open In Colab\"/></a>"
      ]
    },
    {
      "cell_type": "code",
      "execution_count": null,
      "metadata": {
        "id": "-uOPcicLnQ6S"
      },
      "outputs": [],
      "source": [
        "base_fee = 5\n",
        "hour_fee = 2.5\n",
        "for hour in range(8):\n",
        "  price = (hour+1)*hour_fee + base_fee\n",
        "  if price < 10:\n",
        "    print(f'{hour+1} 10.0')\n",
        "  elif price > 20:\n",
        "    print(f'{hour+1} 20.0')\n",
        "  else:\n",
        "    print(f'{hour + 1} {price}')\n",
        "\n"
      ]
    },
    {
      "cell_type": "code",
      "source": [
        "def fill():\n",
        "  l = []\n",
        "  for i in range(10):\n",
        "    l.append(i)\n",
        "    if i%2 == 0:\n",
        "      l.pop()\n",
        "  print(1)\n",
        "\n",
        "fill()"
      ],
      "metadata": {
        "colab": {
          "base_uri": "https://localhost:8080/"
        },
        "id": "hMxcSgSr7Hbl",
        "outputId": "f372ccfc-92a9-453d-df5d-56506ceddadf"
      },
      "execution_count": null,
      "outputs": [
        {
          "output_type": "stream",
          "name": "stdout",
          "text": [
            "1\n"
          ]
        }
      ]
    },
    {
      "cell_type": "code",
      "source": [
        "def greeting(n):\n",
        "  print(f'Hello {n}!')\n",
        "\n",
        "name = input('Enter a name:')\n",
        "greeting(name)\n"
      ],
      "metadata": {
        "colab": {
          "base_uri": "https://localhost:8080/"
        },
        "id": "9fABUFkc8U8s",
        "outputId": "4973d35f-7577-4486-bc24-7eee0660cbe3"
      },
      "execution_count": null,
      "outputs": [
        {
          "output_type": "stream",
          "name": "stdout",
          "text": [
            "Enter a name:Alice\n",
            "Hello Alice!\n"
          ]
        }
      ]
    },
    {
      "cell_type": "code",
      "source": [
        "def add_num(a, b=5):\n",
        " return  a + b\n",
        "\n",
        "\n",
        "x = 5\n",
        "y = 6\n",
        "c = add_num(x, b=y)\n",
        "print(c)"
      ],
      "metadata": {
        "colab": {
          "base_uri": "https://localhost:8080/"
        },
        "id": "Ph7T3Oas8yCZ",
        "outputId": "77b7e682-29d7-4a70-eb8e-83b9d38bb4dd"
      },
      "execution_count": null,
      "outputs": [
        {
          "output_type": "stream",
          "name": "stdout",
          "text": [
            "11\n"
          ]
        }
      ]
    },
    {
      "cell_type": "code",
      "execution_count": null,
      "metadata": {
        "colab": {
          "background_save": true,
          "base_uri": "https://localhost:8080/"
        },
        "id": "Tj00SoSSFBl8",
        "outputId": "30d11022-5331-4970-8a68-322916215823"
      },
      "outputs": [
        {
          "name": "stdout",
          "output_type": "stream",
          "text": [
            "[2]\n",
            "[2, 4]\n",
            "[2, 4, 6]\n"
          ]
        }
      ],
      "source": [
        " L = []\n",
        "while(True):\n",
        "  number = int(input('Enter a Value: '))\n",
        "  if (number != 0):\n",
        "    L.append(number)\n",
        "    print(L)\n",
        "  else:\n",
        "    break\n",
        "L\n",
        "\n"
      ]
    },
    {
      "cell_type": "code",
      "execution_count": null,
      "metadata": {
        "colab": {
          "base_uri": "https://localhost:8080/"
        },
        "id": "CJ19Rsn-VUSW",
        "outputId": "b114d374-ec63-4228-d925-639db3a1fc24"
      },
      "outputs": [
        {
          "name": "stdout",
          "output_type": "stream",
          "text": [
            "a\n",
            "b\n",
            "d\n",
            "g\n"
          ]
        }
      ],
      "source": [
        "s1 = 'abcdefg'\n",
        "s2 = 'abdght'\n",
        "\n",
        "for char in s1:\n",
        "  if char in s2:\n",
        "    print(char)"
      ]
    },
    {
      "cell_type": "code",
      "execution_count": null,
      "metadata": {
        "colab": {
          "base_uri": "https://localhost:8080/"
        },
        "id": "EWJsjXHCWsJm",
        "outputId": "647f4049-699b-4ef7-8344-c8150d26d1ad"
      },
      "outputs": [
        {
          "name": "stdout",
          "output_type": "stream",
          "text": [
            "a\n",
            "b\n",
            "d\n",
            "g\n"
          ]
        }
      ],
      "source": [
        "s1 = 'abcdefg'\n",
        "s2 = 'abdght'\n",
        "\n",
        "for index in range(len(s1)):\n",
        "  if s1[index] in s2:\n",
        "    print(s1[index])"
      ]
    },
    {
      "cell_type": "code",
      "execution_count": null,
      "metadata": {
        "id": "xmlx3aLpnU41"
      },
      "outputs": [],
      "source": [
        "ticket_price = 10\n",
        "fixed_cost = 200\n",
        "base_attendees = 20\n",
        "for ad_cost in range (0,201,25):\n",
        "  attendees = base_attendees + 2*round(ad_cost**.5)\n",
        "  profit =(ticket_price*attendees - fixed_cost - ad_cost)\n",
        "  print(f'{ad_cost} {profit}')"
      ]
    },
    {
      "cell_type": "code",
      "execution_count": null,
      "metadata": {
        "id": "eNlGbIVOnaBI"
      },
      "outputs": [],
      "source": [
        "import random\n",
        "user_choice1 = input(\"Do you want to play the game? Type Yes or No: \")\n",
        "while user_choice1 == 'Yes':\n",
        "  user_choice1 = input\n",
        "  pc_choice = random.choice(['rock', 'paper', 'scissors'])\n",
        "  user_choice2 = input(\"Type either 'rock', 'paper', 'scissors' here: \")\n",
        "  print(f'PC picked' + pc_choice)\n",
        "  if(pc_choice == user_choice2):\n",
        "    print('tie')\n",
        "  elif((pc_choice == 'paper' and user_choice2 == 'scissors') or\n",
        "       (pc_choice == 'scissors' and user_choice2 == 'rock') or\n",
        "       (pc_choice == 'rock' and user_choice2 == 'paper')):\n",
        "       print('you win!')\n",
        "  else:\n",
        "    print('you lose!')\n",
        "  user_choice1 = input(\"Do you want to continue playing? Type Yes or No: \")"
      ]
    },
    {
      "cell_type": "markdown",
      "metadata": {
        "id": "VMKzWA_-pYO4"
      },
      "source": [
        "Design a calculator:\n",
        "- the calculator once starts, cannot stop unless the user chooses\n",
        "- implement all numerical operators that we discussed\n",
        "- the user has to rpovide the numbers and desired operator from the keyboard; then, the calculator will display the result\n",
        "- numbers: int or float, operator: str\n",
        "- the calculator stops if the user enters the word \"break\" instead of an operater; it skips an iteration if the user gives an operator that is not numerical (e.g. a boolean one)"
      ]
    },
    {
      "cell_type": "code",
      "execution_count": null,
      "metadata": {
        "colab": {
          "background_save": true,
          "base_uri": "https://localhost:8080/"
        },
        "id": "6GPOn9y8pYhl",
        "outputId": "a734641a-b7e6-4269-eb97-ec8b8ca96bab"
      },
      "outputs": [
        {
          "name": "stdout",
          "output_type": "stream",
          "text": [
            "9\n"
          ]
        }
      ],
      "source": [
        "while True:\n",
        "  number1 = int(input(\"Type the first number\"))\n",
        "  operator = input(\"Type an operator (+, -, /, //, %, **) or type 'break' to end\")\n",
        "  number2 = int(input(\"Type the second number\"))\n",
        "  if operator == '+':\n",
        "    result = number1 + number2\n",
        "    print(result)\n",
        "  elif operator == '-':\n",
        "    result = number1 - number2\n",
        "    print(result)\n",
        "    print(f'{number1} = ')\n",
        "  elif operator == '/':\n",
        "    result = number1/number2\n",
        "    print(result)\n",
        "  elif operator == '//':\n",
        "    result = number1 // number2\n",
        "    print(result)\n",
        "  elif operator == '%':\n",
        "    result = number1 % number2\n",
        "    print(result)\n",
        "  elif operator == '**':\n",
        "    result = number1 ** number2\n",
        "    print(result)\n",
        "  elif operator == 'break':\n",
        "    break\n",
        "  else: continue"
      ]
    },
    {
      "cell_type": "code",
      "source": [
        "def fibR(n):\n",
        "  if n == 0 or n == 1:\n",
        "    return 1\n",
        "  else:\n",
        "    return fibR(n-1)  + fibR(n-2)\n",
        "\n",
        "for i in range(8):\n",
        "  print(fibR(i), end = \" \")\n"
      ],
      "metadata": {
        "colab": {
          "base_uri": "https://localhost:8080/"
        },
        "id": "OsT7JVjcCEZA",
        "outputId": "31f7ae3b-3c62-4dcd-a0a4-1d1c8c59b47c"
      },
      "execution_count": null,
      "outputs": [
        {
          "output_type": "stream",
          "name": "stdout",
          "text": [
            "1 1 2 3 5 8 13 21 "
          ]
        }
      ]
    },
    {
      "cell_type": "code",
      "source": [
        "def factorial(n):\n",
        "  if n ==1:\n",
        "    return 1\n",
        "  else:\n",
        "    return (n * factorial(n-1))\n",
        "\n",
        "factorial(8)\n",
        "\n"
      ],
      "metadata": {
        "colab": {
          "base_uri": "https://localhost:8080/"
        },
        "id": "4jKiR3tGElKA",
        "outputId": "cb35e2ba-7f14-42c4-e75a-e0d5ae8d0b4b"
      },
      "execution_count": null,
      "outputs": [
        {
          "output_type": "execute_result",
          "data": {
            "text/plain": [
              "40320"
            ]
          },
          "metadata": {},
          "execution_count": 4
        }
      ]
    },
    {
      "cell_type": "code",
      "source": [
        "def factR(n):\n",
        "  if n == 1:\n",
        "    return 1\n",
        "  else:\n",
        "    return n * factR(n-1)"
      ],
      "metadata": {
        "id": "yOUKh3c-IAFp"
      },
      "execution_count": null,
      "outputs": []
    },
    {
      "cell_type": "code",
      "source": [
        "def fact(n):\n",
        "  p = 1\n",
        "  while n >= 1:\n",
        "    p = p * n\n",
        "    n = n - 1\n",
        "  return p"
      ],
      "metadata": {
        "id": "vWls54NnIcBY"
      },
      "execution_count": null,
      "outputs": []
    },
    {
      "cell_type": "code",
      "source": [
        "def mirrorString(s):\n",
        "  if len(s)== 1:\n",
        "    return(s)\n",
        "  else:\n",
        "    return s[-1] + mirrorString(s[:-1])\n",
        "\n",
        "mirrorString(\"float\")"
      ],
      "metadata": {
        "colab": {
          "base_uri": "https://localhost:8080/",
          "height": 35
        },
        "id": "LLxpOcT2T55i",
        "outputId": "33976e53-ec00-476b-ff40-aae233a42a15"
      },
      "execution_count": null,
      "outputs": [
        {
          "output_type": "execute_result",
          "data": {
            "text/plain": [
              "'taolf'"
            ],
            "application/vnd.google.colaboratory.intrinsic+json": {
              "type": "string"
            }
          },
          "metadata": {},
          "execution_count": 6
        }
      ]
    },
    {
      "cell_type": "code",
      "source": [
        "def quickSort(alist):\n",
        "  if len(alist) < 2:\n",
        "    return alist\n",
        "  else:\n",
        "    less, equal, larger = [], [], []\n",
        "\n",
        "    pivotIndex = len(alist) // 2\n",
        "\n",
        "    for item in alist:\n",
        "      if item < alist[pivotIndex]:\n",
        "        less.append(item)\n",
        "      elif item == alist[pivotIndex]:\n",
        "        equal.append(item)\n",
        "      else:\n",
        "        larger.append(item)\n",
        "\n",
        "    return quickSort(less) + equal + quickSort(larger)\n",
        "\n",
        "quickSort([8,2,5,3,6,1])"
      ],
      "metadata": {
        "colab": {
          "base_uri": "https://localhost:8080/"
        },
        "id": "JL6wvnJEXub6",
        "outputId": "f9ec19de-9d89-46d1-cf08-1f62b79907eb"
      },
      "execution_count": null,
      "outputs": [
        {
          "output_type": "execute_result",
          "data": {
            "text/plain": [
              "[1, 2, 3, 5, 6, 8]"
            ]
          },
          "metadata": {},
          "execution_count": 12
        }
      ]
    },
    {
      "cell_type": "code",
      "source": [
        "a = 2\n",
        "b = 3\n",
        "\n",
        "a/b"
      ],
      "metadata": {
        "id": "9mAUHOmsbZmL",
        "colab": {
          "base_uri": "https://localhost:8080/"
        },
        "outputId": "bee4a60e-1b05-4549-dad8-bfe16691ef92"
      },
      "execution_count": null,
      "outputs": [
        {
          "output_type": "execute_result",
          "data": {
            "text/plain": [
              "0.6666666666666666"
            ]
          },
          "metadata": {},
          "execution_count": 1
        }
      ]
    },
    {
      "cell_type": "code",
      "source": [
        "try:\n",
        "  a = float(input('Enter a numerator: '))\n",
        "  b = float(input('Enter a denominator: '))\n",
        "  print(a/b)\n",
        "  print('Division is complete')\n",
        "except ZeroDivisionError:\n",
        "  print('Division by zero is not allowed')\n",
        "except ValueError:\n",
        "  print('The string input cannot be casted as a float')\n",
        "except TypeError:\n",
        "  pint('Invalid Input')\n",
        "except:\n",
        "  print('Unkown error')\n",
        "\n",
        "print('Program ends')\n"
      ],
      "metadata": {
        "id": "6ub8r1lq0BmF"
      },
      "execution_count": null,
      "outputs": []
    },
    {
      "cell_type": "code",
      "source": [
        "1 = [1,2,3,4,5]\n",
        "\n",
        "try:\n",
        "  idx = float(input('Enter Index:'))\n",
        "  print(1[idx])\n",
        "except IndexError:\n",
        "  print('Index given out of bounds')\n",
        "except TypeError:\n",
        "  print('Index must be integer')"
      ],
      "metadata": {
        "id": "9jnE1vBs6dNm"
      },
      "execution_count": null,
      "outputs": []
    },
    {
      "cell_type": "code",
      "source": [
        "class Car:\n",
        "  def __init__(self, make, model, year):\n",
        "    self.make = make\n",
        "    self.model = model\n",
        "    self.year = year\n",
        "    self.utility = 'HUV'\n",
        "\n",
        "  def get_model()\n",
        "\n",
        "  def accelerate(self):\n",
        "    print('the car accelerates')\n",
        "\n",
        "  def decelerate(self):\n",
        "    print('The car decelerates')\n"
      ],
      "metadata": {
        "id": "ep1TasPTHUuO"
      },
      "execution_count": null,
      "outputs": []
    },
    {
      "cell_type": "code",
      "source": [
        "c = Car('Ford', 150, 2023)\n",
        "d = Car('Chrysler', 300, 2020)"
      ],
      "metadata": {
        "id": "v9e3oQHLKCPY"
      },
      "execution_count": null,
      "outputs": []
    },
    {
      "cell_type": "code",
      "source": [
        "c.accelerate()"
      ],
      "metadata": {
        "colab": {
          "base_uri": "https://localhost:8080/"
        },
        "id": "1hx63QgiMZE2",
        "outputId": "24424189-1aef-458a-b31e-001f0d7cc862"
      },
      "execution_count": null,
      "outputs": [
        {
          "output_type": "stream",
          "name": "stdout",
          "text": [
            "the car accelerates\n"
          ]
        }
      ]
    },
    {
      "cell_type": "code",
      "source": [
        "# use input() prompt for the # of hours parked, return this value\n",
        "def getParkingHours():\n",
        "  return int(input('Enter the amount of hours you want to park:'))\n",
        "\n",
        "# takes as input hours (a number), returns the parking fee\n",
        "def calcParkingFee(hours):\n",
        "  fee = hours*2.50\n",
        "  if fee < 6:\n",
        "    return 6.0\n",
        "  elif fee > 20:\n",
        "    return 20.0\n",
        "  else:\n",
        "    return fee\n",
        "\n",
        "fee = calcParkingFee(getParkingHours())\n",
        "print(f'Fee is ${fee}0')"
      ],
      "metadata": {
        "colab": {
          "base_uri": "https://localhost:8080/"
        },
        "id": "8SaY4iTn8f3D",
        "outputId": "727c98c3-7bd7-4f5f-aa20-854c0224c987"
      },
      "execution_count": 10,
      "outputs": [
        {
          "output_type": "stream",
          "name": "stdout",
          "text": [
            "Enter the amount of hours you want to park:2\n",
            "Fee is $6.00\n"
          ]
        }
      ]
    },
    {
      "cell_type": "code",
      "source": [
        "def avg(aList):\n",
        "  try:\n",
        "    return sum(aList) / len(aList)\n",
        "  except TypeError:\n",
        "    print('Put only numbers in the list!')\n",
        "    return float('nan')\n",
        "  except ZeroDivisionError:\n",
        "    print('List must have more than one value!')\n",
        "    return[]\n",
        "  except:\n",
        "    print('Unkonwn error')\n",
        "\n",
        "print(avg(['a,1,2']))\n",
        "print(avg([]))\n",
        "avg([1,2,3,4,5])"
      ],
      "metadata": {
        "colab": {
          "base_uri": "https://localhost:8080/"
        },
        "id": "fh5ei-q59UGZ",
        "outputId": "8b4f9eff-af60-4a32-c7da-a5e553b8e9f8"
      },
      "execution_count": 12,
      "outputs": [
        {
          "output_type": "stream",
          "name": "stdout",
          "text": [
            "Put only numbers in the list!\n",
            "nan\n",
            "List must have more than one value!\n",
            "[]\n"
          ]
        },
        {
          "output_type": "execute_result",
          "data": {
            "text/plain": [
              "3.0"
            ]
          },
          "metadata": {},
          "execution_count": 12
        }
      ]
    },
    {
      "cell_type": "code",
      "source": [
        "l = [1,3,5,7,9]\n",
        "\n",
        "try:\n",
        "  idx = int(input('Enter index:'))\n",
        "  print(l[idx])\n",
        "except IndexError:\n",
        "  print('Index value must be out of bounds!')\n",
        "except ValueError:\n",
        "  print('Indexes must be integers!')\n",
        "else:\n",
        "  print('Item found!')\n",
        "finally:\n",
        "  print('This will be displayed as always')\n"
      ],
      "metadata": {
        "colab": {
          "base_uri": "https://localhost:8080/"
        },
        "id": "XY_6ry0d96QY",
        "outputId": "19180ed4-769a-46a1-d3a0-ac940c57e958"
      },
      "execution_count": 13,
      "outputs": [
        {
          "output_type": "stream",
          "name": "stdout",
          "text": [
            "Enter index:3\n",
            "7\n",
            "Item found!\n",
            "This will be displayed as always\n"
          ]
        }
      ]
    }
  ],
  "metadata": {
    "colab": {
      "provenance": [],
      "authorship_tag": "ABX9TyMbu3YMSjmWNjbkWVsEOHmV",
      "include_colab_link": true
    },
    "kernelspec": {
      "display_name": "Python 3",
      "name": "python3"
    },
    "language_info": {
      "name": "python"
    }
  },
  "nbformat": 4,
  "nbformat_minor": 0
}